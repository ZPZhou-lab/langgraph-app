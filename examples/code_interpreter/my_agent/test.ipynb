{
 "cells": [
  {
   "cell_type": "code",
   "execution_count": null,
   "id": "1d66bed3",
   "metadata": {},
   "outputs": [],
   "source": [
    "from typing import Type, Any, Dict\n",
    "\n",
    "def code_interpreter(code: str) -> Dict[str, Any]:\n",
    "    \"\"\"\n",
    "    executes the provided Python code and returns the result.\n",
    "\n",
    "    Parameters\n",
    "    ----------\n",
    "    code : str\n",
    "        The Python code to execute. It should define a variable named `result` which \n",
    "        contains all the output you needed. Make sure `result` is an object that can be converted to a string.\n",
    "    \"\"\"\n",
    "    try:\n",
    "        # Create a new namespace for code execution\n",
    "        namespace = {}\n",
    "        # Execute the code in the isolated namespace\n",
    "        exec(code, namespace)\n",
    "        # Return the result from the executed code\n",
    "        return {\"result\": namespace.get(\"result\")}\n",
    "        \n",
    "    except Exception as e:\n",
    "        error_message = (\n",
    "            f\"error when executing code: {code}.\\n\"\n",
    "            f\"catch Exception: {e}\"\n",
    "        )\n",
    "        raise e"
   ]
  },
  {
   "cell_type": "code",
   "execution_count": null,
   "id": "a2b6286f",
   "metadata": {},
   "outputs": [],
   "source": []
  }
 ],
 "metadata": {
  "kernelspec": {
   "display_name": "agent",
   "language": "python",
   "name": "python3"
  },
  "language_info": {
   "codemirror_mode": {
    "name": "ipython",
    "version": 3
   },
   "file_extension": ".py",
   "mimetype": "text/x-python",
   "name": "python",
   "nbconvert_exporter": "python",
   "pygments_lexer": "ipython3",
   "version": "3.12.11"
  }
 },
 "nbformat": 4,
 "nbformat_minor": 5
}
